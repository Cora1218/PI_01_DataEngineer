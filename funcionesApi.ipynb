{
 "cells": [
  {
   "cell_type": "code",
   "execution_count": null,
   "metadata": {},
   "outputs": [],
   "source": [
    "# Importar librerías\n",
    "import pandas as pd\n",
    "import numpy as np\n",
    "import calendar\n",
    "import locale\n",
    "import json\n",
    "import ast\n",
    "import re\n",
    "\n",
    "\n",
    "# Establecer el idioma en español\n",
    "locale.setlocale(locale.LC_ALL, 'es_ES.UTF-8')\n"
   ]
  },
  {
   "cell_type": "code",
   "execution_count": null,
   "metadata": {},
   "outputs": [],
   "source": [
    "# Cargar el csv a utilizar y ponerlo en un df\n",
    "df = pd.read_csv(\"Dataset/movies_final.csv\")\n",
    "df.head()\n",
    "df.info()"
   ]
  },
  {
   "attachments": {},
   "cell_type": "markdown",
   "metadata": {},
   "source": [
    "********** FUNCIONES **********"
   ]
  },
  {
   "attachments": {},
   "cell_type": "markdown",
   "metadata": {},
   "source": [
    "# 1er función:\n",
    "def peliculas_mes(mes): '''Se ingresa el mes y la funcion retorna la cantidad de peliculas que se estrenaron ese mes historicamente'''\n",
    "return {'mes':mes, 'cantidad':respuesta}"
   ]
  },
  {
   "cell_type": "code",
   "execution_count": null,
   "metadata": {},
   "outputs": [],
   "source": [
    "def peliculas_mes(mes):\n",
    "        # Convertir la columna \"release_date\" de object a datetime\n",
    "        df['release_date'] = pd.to_datetime(df['release_date'], format='%Y-%m-%d', errors='coerce') # Se reemplaza las fechas dejando de lado los errores\n",
    "        # Crear la columna release_month donde se extraerá el mes de la fecha de estreno.\n",
    "        df['release_month'] = df['release_date'].apply(lambda x: x.month if x is not pd.NaT else None)\n",
    "        df['release_month'] = df['release_month'].fillna(0).astype(int)\n",
    "        meses = dict(enumerate(calendar.month_name))\n",
    "        df['release_month'] = df['release_month'].map(meses)\n",
    "        #meses = { i+1: calendar.month_name[i+1] for i in range(12) }\n",
    "        #meses\n",
    "        cantidad = df[df[\"release_month\"] == mes][\"release_month\"].count()\n",
    "        return f'Mes: {mes}, Cantidad: {cantidad}'\n",
    "\n",
    "peliculas_mes('octubre')"
   ]
  },
  {
   "attachments": {},
   "cell_type": "markdown",
   "metadata": {},
   "source": [
    "# 2da Función:\n",
    "def peliculas_dia(dia): '''Se ingresa el dia y la funcion retorna la cantidad de peliculas que se estrenaron ese dia historicamente''' return {'dia':dia, 'cantidad':respuesta}"
   ]
  },
  {
   "cell_type": "code",
   "execution_count": null,
   "metadata": {},
   "outputs": [],
   "source": [
    "def peliculas_dia(dia):\n",
    "    # Convertir la columna \"release_date\" de object a datetime\n",
    "    df['release_date'] = pd.to_datetime(df['release_date'], format='%Y-%m-%d', errors='coerce') # Se reemplaza las fechas dejando de lado los errores\n",
    "        \n",
    "    # Crear la columna release_day donde se extraerá el día de la fecha de estreno\n",
    "    # df['release_day'] = df['release_date'].apply(lambda x: x.day if x is not pd.NaT else None)\n",
    "    # df['release_day'] = df['release_day'].fillna(0).astype(int)\n",
    "    #Para sacar la columna días de la semana:\n",
    "\n",
    "    df[\"release_day\"] = df['release_date'].dt.strftime('%A').apply(lambda x: x if type(x) != float else x)\n",
    "    df[\"release_day\"]\n",
    "    respuesta = df[df[\"release_day\"] == dia][\"release_day\"].count()\n",
    "    return f'Día: {dia}, Cantidad: {respuesta}' \n",
    "\n",
    "peliculas_dia('martes')\n"
   ]
  },
  {
   "attachments": {},
   "cell_type": "markdown",
   "metadata": {},
   "source": [
    "# 3ra Función:\n",
    "def franquicia(franquicia): '''Se ingresa la franquicia, retornando la cantidad de peliculas, ganancia total y promedio''' return {'franquicia':franquicia, 'cantidad':respuesta, 'ganancia_total':respuesta, 'ganancia_promedio':respuesta}\n"
   ]
  },
  {
   "cell_type": "code",
   "execution_count": null,
   "metadata": {},
   "outputs": [],
   "source": [
    "def franquicia(franquicia):\n",
    "    # Filtramos las filas que pertenecen a la franquicia deseada y contamos cuántas filas hay en el resultado filtrado.\n",
    "    cantidad = df[df['name'] == franquicia].shape[0]\n",
    "    \n",
    "    df_franquicia = df[df['name'] == franquicia] # Filtra la franquicia solicitada\n",
    "\n",
    "    # Calculamos la ganancia total\n",
    "    gananciaTotal = (df_franquicia['revenue'] - df_franquicia['budget']).sum()\n",
    "    gananciaPromedio = (df_franquicia['revenue'] - df_franquicia['budget'] / df_franquicia['budget']).mean()\n",
    "\n",
    "    return f'Franquicia: {franquicia}, Cantidad: {cantidad}, Ganancia Total: {gananciaTotal}, Ganancia Promedio: {gananciaPromedio}'\n",
    "\n",
    "franquicia(\"Toy Story Collection\")"
   ]
  },
  {
   "attachments": {},
   "cell_type": "markdown",
   "metadata": {},
   "source": [
    "# 4ta Función:\n",
    "def peliculas_pais(pais): '''Ingresas el pais, retornando la cantidad de peliculas producidas en el mismo''' return {'pais':pais, 'cantidad':respuesta}"
   ]
  },
  {
   "cell_type": "code",
   "execution_count": null,
   "metadata": {},
   "outputs": [],
   "source": [
    "def peliculas_pais(pais):\n",
    "    \n",
    "    mask = df['production_countries'].str.join(',').str.contains(pais, na=False)\n",
    "   \n",
    "    can = mask.count()\n",
    "    # cantidad = df[mask]['title'].count()\n",
    "\n",
    "    return f'pais: {pais}, cantidad:{can}'\n",
    "United States of America\n",
    "peliculas_pais('')"
   ]
  },
  {
   "attachments": {},
   "cell_type": "markdown",
   "metadata": {},
   "source": [
    "# 5ta Función:\n",
    "def productoras(productora): '''Ingresas la productora, retornando la ganancia total y la cantidad de peliculas que produjeron''' return {'productora':productora, 'ganancia_total':respuesta, 'cantidad':respuesta}"
   ]
  },
  {
   "cell_type": "code",
   "execution_count": null,
   "metadata": {},
   "outputs": [],
   "source": [
    "df['production_companies'].isna().sum()\n",
    "#df = df.dropna(subset=['production_companies'])\n",
    "#df\n",
    "df3 = pd.json_normalize(df['production_companies'].map(eval))\n"
   ]
  },
  {
   "cell_type": "code",
   "execution_count": null,
   "metadata": {},
   "outputs": [],
   "source": [
    "Id = []\n",
    "Names = []\n",
    "for i in range(26):\n",
    "    nid = 'id' + str(i)\n",
    "    nam = 'name' + str(i)\n",
    "    Id.append(nid)\n",
    "    Names.append(nam)\n",
    "    df3[nid] = pd.json_normalize(df3[i])['id']\n",
    "    df3[nam] = pd.json_normalize(df3[i])['name']"
   ]
  },
  {
   "cell_type": "code",
   "execution_count": null,
   "metadata": {},
   "outputs": [],
   "source": [
    "df3['name_production'].replace('', np.nan, inplace=True)"
   ]
  },
  {
   "cell_type": "code",
   "execution_count": null,
   "metadata": {},
   "outputs": [],
   "source": [
    "def productoras(productora):\n",
    "    prod = df3[['name_production', 'budget', 'revenue']].dropna()\n",
    "    prod ['name_production'] = prod['name_production'].map(str.lower)\n",
    "    cantidad = prod.shape[0]\n",
    "    gtotal= (prod['revenue'] - prod['budget']).sum()\n",
    "    return {'productora':productora, 'ganancia_total': gtotal, 'cantidad': cantidad }\n",
    "\n",
    "productoras('Warner Bros.')"
   ]
  },
  {
   "attachments": {},
   "cell_type": "markdown",
   "metadata": {},
   "source": [
    "# Función 6\n",
    "def retorno(pelicula): '''Ingresas la pelicula, retornando la inversion, la ganancia, el retorno y el año en el que se lanzo''' return {'pelicula':pelicula, 'inversion':respuesta, 'ganacia':respuesta,'retorno':respuesta, 'anio':respuesta}"
   ]
  },
  {
   "cell_type": "code",
   "execution_count": 987,
   "metadata": {},
   "outputs": [
    {
     "data": {
      "text/plain": [
       "{'pelicula': 'Toy Story',\n",
       " 'inversion': 30000000.0,\n",
       " 'ganancia': 343554033.0,\n",
       " 'retorno': 11.4518011,\n",
       " 'anio': 1995}"
      ]
     },
     "execution_count": 987,
     "metadata": {},
     "output_type": "execute_result"
    }
   ],
   "source": [
    "def retorno(pelicula):\n",
    "    pelicula_data = df[df['title'] == pelicula]\n",
    "    if len(pelicula_data) == 0:\n",
    "        return f\"No se encontró la película {pelicula}\"\n",
    "    inversion = pelicula_data['budget'].iloc[0]\n",
    "    ganancia = pelicula_data['revenue'].iloc[0] - inversion\n",
    "    retorno = ganancia / inversion if inversion > 0 else 0\n",
    "    anio = int(pelicula_data['release_year'])\n",
    "    return {'pelicula': pelicula, 'inversion': inversion, 'ganancia': ganancia, 'retorno': retorno, 'anio': anio}\n",
    "\n",
    "retorno('Toy Story')"
   ]
  }
 ],
 "metadata": {
  "kernelspec": {
   "display_name": "Python 3",
   "language": "python",
   "name": "python3"
  },
  "language_info": {
   "codemirror_mode": {
    "name": "ipython",
    "version": 3
   },
   "file_extension": ".py",
   "mimetype": "text/x-python",
   "name": "python",
   "nbconvert_exporter": "python",
   "pygments_lexer": "ipython3",
   "version": "3.10.7"
  },
  "orig_nbformat": 4
 },
 "nbformat": 4,
 "nbformat_minor": 2
}
