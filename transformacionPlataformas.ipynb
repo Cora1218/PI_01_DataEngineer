{
 "cells": [
  {
   "cell_type": "code",
   "execution_count": null,
   "metadata": {},
   "outputs": [],
   "source": [
    "# Impotación de librerías\n",
    "import pandas as pd\n",
    "import numpy as np\n",
    "from datetime import datetime\n",
    "import re\n",
    " "
   ]
  },
  {
   "cell_type": "code",
   "execution_count": null,
   "metadata": {},
   "outputs": [],
   "source": [
    "# Ingesta de datos del archivo (movies_dataset) dado por el cliente\n",
    "df = pd.read_csv('Dataset/movies_dataset.csv')"
   ]
  },
  {
   "attachments": {},
   "cell_type": "markdown",
   "metadata": {},
   "source": [
    "********** ANÁLISIS EXPLORATORIO DE LOS DATOS **********"
   ]
  },
  {
   "cell_type": "code",
   "execution_count": null,
   "metadata": {},
   "outputs": [],
   "source": [
    "df.head()\n",
    "df.info()"
   ]
  },
  {
   "cell_type": "code",
   "execution_count": null,
   "metadata": {},
   "outputs": [],
   "source": [
    "# Desanidar la columna belongs_to_collection\n",
    "df['belongs_to_collection'] = df['belongs_to_collection'].fillna('{}') # Se rellena los NAN con diccionarios vacíos\n",
    "\n",
    "df_collection = pd.json_normalize(df['belongs_to_collection'].map(eval)) # Normalizar datos estructurados en formato JSON en una tabla plana (DataFrame) donde cada clave del objeto JSON se convierte en una columna\n",
    "\n",
    "df_collection = df_collection.drop(['poster_path', 'backdrop_path'], axis=1)\n",
    "df_collection # Df nuevo de los datos desanidados de belongs_to_collection"
   ]
  },
  {
   "cell_type": "code",
   "execution_count": null,
   "metadata": {},
   "outputs": [],
   "source": [
    "# Los valores nulos de los campos revenue, budget deben ser rellenados por el número 0\n",
    "df['revenue'] = df['revenue'].fillna(0)"
   ]
  },
  {
   "cell_type": "code",
   "execution_count": null,
   "metadata": {},
   "outputs": [],
   "source": [
    "# Los valores nulos del campo release date deben eliminarse\n",
    "df.dropna(subset=['release_date'], inplace=True)"
   ]
  },
  {
   "cell_type": "code",
   "execution_count": null,
   "metadata": {},
   "outputs": [],
   "source": [
    "# Las fechas deberán tener el formato AAAA-mm-dd\n",
    "# df['release_date'] = pd.to_datetime(df['release_date'], format='%B %d, %Y').dt.strftime('%Y-%m-%d')\n",
    "\n",
    "# Convertir la columna \"release_date\" de object a datetime\n",
    "df['release_date'] = pd.to_datetime(df['release_date'], format='%Y-%m-%d', errors='coerce') # Se reemplaza las fechas dejando de lado los errores"
   ]
  },
  {
   "cell_type": "code",
   "execution_count": null,
   "metadata": {},
   "outputs": [],
   "source": [
    "# Crear la columna release_year donde se extraerá el año de la fecha de estreno.\n",
    "df['release_year'] = df['release_date'].apply(lambda x: x.year if x is not pd.NaT else None)\n",
    "df['release_year'] = df['release_year'].fillna(0).astype(int)"
   ]
  },
  {
   "cell_type": "code",
   "execution_count": null,
   "metadata": {},
   "outputs": [],
   "source": [
    "# Crear la columna con el retorno de inversión, llamada return con los campos revenue y budget, dividiendo estas dos últimas revenue / budget, \n",
    "# cuando no hay datos disponibles para calcularlo, deberá tomar el valor 0\n",
    "\n",
    "# Reemplazar valores str por 0 en la columna budget\n",
    "df['budget'] = df['budget'].replace('/ff9qCepilowshEtG2GYWwzt2bs4.jpg', 0)\n",
    "df['budget'] = df['budget'].replace('/zV8bHuSL6WXoD6FWogP9j4x80bL.jpg', 0)\n",
    "df['budget'] = df['budget'].replace('/zaSf5OG7V8X8gqFvly88zDdRm46.jpg', 0)\n",
    "\n",
    "# Cambiar formato de la columna budget de object a int\n",
    "df['budget'] = df['budget'].astype(int)\n",
    "df['return'] = df['revenue'] / df['budget']\n",
    "# Reemplazar por 0 si el resultado es NaN (0/0)\n",
    "df['return'].fillna(0, inplace=True)\n",
    "# Reemplazar por 0 si el resultado es inf\n",
    "df.loc[np.isinf(df['return']), 'return'] = 0"
   ]
  },
  {
   "cell_type": "code",
   "execution_count": null,
   "metadata": {},
   "outputs": [],
   "source": [
    "# Eliminar las columnas que no serán utilizadas, video,imdb_id,adult,original_title,vote_count,poster_path y homepage\n",
    "df.drop(['video', 'imdb_id', 'adult', 'original_title', 'vote_count', 'poster_path', 'homepage'], axis=1, inplace=True)"
   ]
  },
  {
   "cell_type": "code",
   "execution_count": null,
   "metadata": {},
   "outputs": [],
   "source": [
    "def extraer_datos(df, columna):\n",
    "    # Función para extraer los valores de una cadena, lista o diccionario\n",
    "    def extraer_valores(valor):\n",
    "        if isinstance(valor, str):\n",
    "            # Si es una cadena, extraer los valores con la expresión regular\n",
    "            pattern = r\"'name': '([^']*)'\"\n",
    "            coincidencias = re.findall(pattern, valor)\n",
    "            return coincidencias\n",
    "        elif isinstance(valor, list):\n",
    "            # Si es una lista, extraer los valores de cada elemento de la lista\n",
    "            valores = []\n",
    "            for elemento in valor:\n",
    "                if 'name' in elemento:\n",
    "                    valores.append(elemento['name'])\n",
    "            return valores\n",
    "        elif isinstance(valor, dict):\n",
    "            # Si es un diccionario, extraer los valores de la clave 'name'\n",
    "            if 'name' in valor:\n",
    "                return valor['name']\n",
    "        return None\n",
    "    \n",
    "    # Aplicar la función a la columna y sobrescribir la columna\n",
    "    df['production_companies'] = df['production_companies'].apply(extraer_valores)\n",
    "    #print(df['production_companies'])\n",
    "    return df\n",
    "\n",
    "# Aplicar la función para extraer los datos de la columna 'belongs_to_collection'\n",
    "df_companies = extraer_datos(df, 'production_companies')\n",
    "\n",
    "# Mostrar el resultado\n",
    "df_companies.head()\n"
   ]
  },
  {
   "cell_type": "code",
   "execution_count": null,
   "metadata": {},
   "outputs": [],
   "source": [
    "# Unir los 2 df's\n",
    "\n",
    "df_concat = pd.concat([df_collection, df], axis=1)\n",
    "#df_final = df_concat.drop_duplicates() # Eliminar los registros duplicasdos\n",
    "df_final"
   ]
  },
  {
   "cell_type": "code",
   "execution_count": null,
   "metadata": {},
   "outputs": [],
   "source": [
    "# Guardar el df en un csv llamado platforms.csv\n",
    "# df_final.to_csv('Dataset\\movies_final.csv', index=False)"
   ]
  }
 ],
 "metadata": {
  "kernelspec": {
   "display_name": "Python 3",
   "language": "python",
   "name": "python3"
  },
  "language_info": {
   "codemirror_mode": {
    "name": "ipython",
    "version": 3
   },
   "file_extension": ".py",
   "mimetype": "text/x-python",
   "name": "python",
   "nbconvert_exporter": "python",
   "pygments_lexer": "ipython3",
   "version": "3.10.7"
  },
  "orig_nbformat": 4
 },
 "nbformat": 4,
 "nbformat_minor": 2
}
